{
 "cells": [
  {
   "cell_type": "code",
   "execution_count": 1,
   "metadata": {},
   "outputs": [],
   "source": [
    "import os\n",
    "from typing import Dict\n",
    "\n",
    "import torch\n",
    "from filelock import FileLock\n",
    "from torch import nn\n",
    "from torch.utils.data import DataLoader\n",
    "from torchvision import datasets, transforms\n",
    "from torchvision.transforms import Normalize, ToTensor\n",
    "from tqdm import tqdm\n",
    "\n",
    "import ray.train\n",
    "from ray.train import ScalingConfig\n",
    "from ray.train.torch import TorchTrainer"
   ]
  },
  {
   "cell_type": "code",
   "execution_count": 2,
   "metadata": {},
   "outputs": [],
   "source": [
    "def get_dataloaders(batch_size):\n",
    "    # Transform to normalize the input images\n",
    "    transform = transforms.Compose([ToTensor(), Normalize((0.5,), (0.5,))])\n",
    "\n",
    "    with FileLock(os.path.expanduser(\"~/data.lock\")):\n",
    "        # Download training data from open datasets\n",
    "        training_data = datasets.FashionMNIST(\n",
    "            root=\"~/data\",\n",
    "            train=True,\n",
    "            download=True,\n",
    "            transform=transform,\n",
    "        )\n",
    "\n",
    "        # Download test data from open datasets\n",
    "        test_data = datasets.FashionMNIST(\n",
    "            root=\"~/data\",\n",
    "            train=False,\n",
    "            download=True,\n",
    "            transform=transform,\n",
    "        )\n",
    "\n",
    "    # Create data loaders\n",
    "    train_dataloader = DataLoader(training_data, batch_size=batch_size, shuffle=True)\n",
    "    test_dataloader = DataLoader(test_data, batch_size=batch_size)\n",
    "\n",
    "    return train_dataloader, test_dataloader"
   ]
  },
  {
   "cell_type": "code",
   "execution_count": 3,
   "metadata": {},
   "outputs": [],
   "source": [
    "# Model Definition\n",
    "class NeuralNetwork(nn.Module):\n",
    "    def __init__(self):\n",
    "        super(NeuralNetwork, self).__init__()\n",
    "        self.flatten = nn.Flatten()\n",
    "        self.linear_relu_stack = nn.Sequential(\n",
    "            nn.Linear(28 * 28, 512),\n",
    "            nn.ReLU(),\n",
    "            nn.Dropout(0.25),\n",
    "            nn.Linear(512, 512),\n",
    "            nn.ReLU(),\n",
    "            nn.Dropout(0.25),\n",
    "            nn.Linear(512, 10),\n",
    "            nn.ReLU(),\n",
    "        )\n",
    "\n",
    "    def forward(self, x):\n",
    "        x = self.flatten(x)\n",
    "        logits = self.linear_relu_stack(x)\n",
    "        return logits"
   ]
  },
  {
   "cell_type": "code",
   "execution_count": 4,
   "metadata": {},
   "outputs": [],
   "source": [
    "def train_func_per_worker(config: Dict):\n",
    "    lr = config[\"lr\"]\n",
    "    epochs = config[\"epochs\"]\n",
    "    batch_size = config[\"batch_size_per_worker\"]\n",
    "\n",
    "    # Get dataloaders inside the worker training function\n",
    "    train_dataloader, test_dataloader = get_dataloaders(batch_size=batch_size)\n",
    "\n",
    "    # [1] Prepare Dataloader for distributed training\n",
    "    # Shard the datasets among workers and move batches to the correct device\n",
    "    # =======================================================================\n",
    "    train_dataloader = ray.train.torch.prepare_data_loader(train_dataloader)\n",
    "    test_dataloader = ray.train.torch.prepare_data_loader(test_dataloader)\n",
    "\n",
    "    model = NeuralNetwork()\n",
    "\n",
    "    # [2] Prepare and wrap your model with DistributedDataParallel\n",
    "    # Move the model to the correct GPU/CPU device\n",
    "    # ============================================================\n",
    "    model = ray.train.torch.prepare_model(model)\n",
    "\n",
    "    loss_fn = nn.CrossEntropyLoss()\n",
    "    optimizer = torch.optim.SGD(model.parameters(), lr=lr, momentum=0.9)\n",
    "\n",
    "    # Model training loop\n",
    "    for epoch in range(epochs):\n",
    "        if ray.train.get_context().get_world_size() > 1:\n",
    "            # Required for the distributed sampler to shuffle properly across epochs.\n",
    "            train_dataloader.sampler.set_epoch(epoch)\n",
    "\n",
    "        model.train()\n",
    "        for X, y in tqdm(train_dataloader, desc=f\"Train Epoch {epoch}\"):\n",
    "            pred = model(X)\n",
    "            loss = loss_fn(pred, y)\n",
    "\n",
    "            optimizer.zero_grad()\n",
    "            loss.backward()\n",
    "            optimizer.step()\n",
    "\n",
    "        model.eval()\n",
    "        test_loss, num_correct, num_total = 0, 0, 0\n",
    "        with torch.no_grad():\n",
    "            for X, y in tqdm(test_dataloader, desc=f\"Test Epoch {epoch}\"):\n",
    "                pred = model(X)\n",
    "                loss = loss_fn(pred, y)\n",
    "\n",
    "                test_loss += loss.item()\n",
    "                num_total += y.shape[0]\n",
    "                num_correct += (pred.argmax(1) == y).sum().item()\n",
    "\n",
    "        test_loss /= len(test_dataloader)\n",
    "        accuracy = num_correct / num_total\n",
    "\n",
    "        # [3] Report metrics to Ray Train\n",
    "        # ===============================\n",
    "        ray.train.report(metrics={\"loss\": test_loss, \"accuracy\": accuracy})\n"
   ]
  },
  {
   "cell_type": "code",
   "execution_count": 5,
   "metadata": {},
   "outputs": [],
   "source": [
    "def train_fashion_mnist(num_workers=2, use_gpu=False):\n",
    "    global_batch_size = 32\n",
    "\n",
    "    train_config = {\n",
    "        \"lr\": 1e-3,\n",
    "        \"epochs\": 10,\n",
    "        \"batch_size_per_worker\": global_batch_size // num_workers,\n",
    "    }\n",
    "\n",
    "    # Configure computation resources\n",
    "    scaling_config = ScalingConfig(num_workers=num_workers, use_gpu=use_gpu)\n",
    "\n",
    "    # Initialize a Ray TorchTrainer\n",
    "    trainer = TorchTrainer(\n",
    "        train_loop_per_worker=train_func_per_worker,\n",
    "        train_loop_config=train_config,\n",
    "        scaling_config=scaling_config,\n",
    "    )\n",
    "\n",
    "    # [4] Start distributed training\n",
    "    # Run `train_func_per_worker` on all workers\n",
    "    # =============================================\n",
    "    result = trainer.fit()\n",
    "    print(f\"Training result: {result}\")"
   ]
  },
  {
   "cell_type": "code",
   "execution_count": 6,
   "metadata": {},
   "outputs": [
    {
     "name": "stderr",
     "output_type": "stream",
     "text": [
      "2024-09-29 11:43:02,397\tINFO worker.py:1777 -- Started a local Ray instance. View the dashboard at \u001b[1m\u001b[32m127.0.0.1:8266 \u001b[39m\u001b[22m\n",
      "2024-09-29 11:43:02,935\tINFO tune.py:253 -- Initializing Ray automatically. For cluster usage or custom Ray initialization, call `ray.init(...)` before `<FrameworkTrainer>(...)`.\n",
      "2024-09-29 11:43:02,936\tINFO tune.py:616 -- [output] This uses the legacy output and progress reporter, as Jupyter notebooks are not supported by the new engine, yet. For more information, please see https://github.com/ray-project/ray/issues/36949\n"
     ]
    },
    {
     "name": "stdout",
     "output_type": "stream",
     "text": [
      "== Status ==\n",
      "Current time: 2024-09-29 11:43:03 (running for 00:00:00.13)\n",
      "Using FIFO scheduling algorithm.\n",
      "Logical resource usage: 5.0/10 CPUs, 0/0 GPUs\n",
      "Result logdir: /tmp/ray/session_2024-09-29_11-43-01_585844_53312/artifacts/2024-09-29_11-43-02/TorchTrainer_2024-09-29_11-43-01/driver_artifacts\n",
      "Number of trials: 1/1 (1 PENDING)\n",
      "\n",
      "\n"
     ]
    },
    {
     "name": "stderr",
     "output_type": "stream",
     "text": [
      "\u001b[36m(TorchTrainer pid=53623)\u001b[0m Started distributed worker processes: \n",
      "\u001b[36m(TorchTrainer pid=53623)\u001b[0m - (node_id=2ed88b6ebc0fcf280abb7fc3226a29881fbdf419bec129f08b318fd4, ip=127.0.0.1, pid=53630) world_rank=0, local_rank=0, node_rank=0\n",
      "\u001b[36m(TorchTrainer pid=53623)\u001b[0m - (node_id=2ed88b6ebc0fcf280abb7fc3226a29881fbdf419bec129f08b318fd4, ip=127.0.0.1, pid=53631) world_rank=1, local_rank=1, node_rank=0\n",
      "\u001b[36m(TorchTrainer pid=53623)\u001b[0m - (node_id=2ed88b6ebc0fcf280abb7fc3226a29881fbdf419bec129f08b318fd4, ip=127.0.0.1, pid=53632) world_rank=2, local_rank=2, node_rank=0\n",
      "\u001b[36m(TorchTrainer pid=53623)\u001b[0m - (node_id=2ed88b6ebc0fcf280abb7fc3226a29881fbdf419bec129f08b318fd4, ip=127.0.0.1, pid=53633) world_rank=3, local_rank=3, node_rank=0\n",
      "\u001b[36m(RayTrainWorker pid=53630)\u001b[0m Setting up process group for: env:// [rank=0, world_size=4]\n"
     ]
    },
    {
     "name": "stdout",
     "output_type": "stream",
     "text": [
      "\u001b[36m(RayTrainWorker pid=53630)\u001b[0m Downloading http://fashion-mnist.s3-website.eu-central-1.amazonaws.com/train-images-idx3-ubyte.gz\n",
      "\u001b[36m(RayTrainWorker pid=53630)\u001b[0m Downloading http://fashion-mnist.s3-website.eu-central-1.amazonaws.com/train-images-idx3-ubyte.gz to /Users/atharvakulkarni/data/FashionMNIST/raw/train-images-idx3-ubyte.gz\n"
     ]
    },
    {
     "name": "stderr",
     "output_type": "stream",
     "text": [
      "  0%|          | 0/26421880 [00:00<?, ?it/s]\n"
     ]
    },
    {
     "name": "stdout",
     "output_type": "stream",
     "text": [
      "== Status ==\n",
      "Current time: 2024-09-29 11:43:08 (running for 00:00:05.13)\n",
      "Using FIFO scheduling algorithm.\n",
      "Logical resource usage: 5.0/10 CPUs, 0/0 GPUs\n",
      "Result logdir: /tmp/ray/session_2024-09-29_11-43-01_585844_53312/artifacts/2024-09-29_11-43-02/TorchTrainer_2024-09-29_11-43-01/driver_artifacts\n",
      "Number of trials: 1/1 (1 RUNNING)\n",
      "\n",
      "\n"
     ]
    },
    {
     "name": "stderr",
     "output_type": "stream",
     "text": [
      "  0%|          | 32768/26421880 [00:00<02:01, 216433.16it/s]\n",
      "  0%|          | 65536/26421880 [00:00<02:10, 202472.26it/s]\n",
      "  0%|          | 131072/26421880 [00:00<01:30, 289279.37it/s]\n",
      "  1%|          | 229376/26421880 [00:00<01:04, 403294.88it/s]\n",
      "  2%|▏         | 491520/26421880 [00:00<00:32, 799834.21it/s]\n",
      "  4%|▎         | 983040/26421880 [00:01<00:16, 1504603.66it/s]\n",
      " 11%|█         | 2883584/26421880 [00:01<00:06, 3903698.79it/s]\n",
      " 13%|█▎        | 3407872/26421880 [00:01<00:05, 3957392.96it/s]\n",
      " 27%|██▋       | 7077888/26421880 [00:01<00:01, 11290553.83it/s]\n",
      " 32%|███▏      | 8454144/26421880 [00:01<00:01, 11153441.44it/s]\n",
      " 40%|███▉      | 10485760/26421880 [00:01<00:01, 13396533.78it/s]\n",
      " 45%|████▌     | 11993088/26421880 [00:01<00:01, 13105029.20it/s]\n",
      " 52%|█████▏    | 13697024/26421880 [00:02<00:00, 14036279.94it/s]\n",
      " 59%|█████▉    | 15532032/26421880 [00:02<00:00, 14643627.83it/s]\n",
      " 66%|██████▌   | 17432576/26421880 [00:02<00:00, 15753470.49it/s]\n",
      " 72%|███████▏  | 19070976/26421880 [00:02<00:00, 15247847.13it/s]\n",
      " 80%|███████▉  | 21069824/26421880 [00:02<00:00, 16545763.12it/s]\n",
      " 86%|████████▌ | 22773760/26421880 [00:02<00:00, 15932849.04it/s]\n",
      " 93%|█████████▎| 24477696/26421880 [00:02<00:00, 16238400.16it/s]\n",
      "100%|██████████| 26421880/26421880 [00:02<00:00, 9500653.34it/s] \n"
     ]
    },
    {
     "name": "stdout",
     "output_type": "stream",
     "text": [
      "\u001b[36m(RayTrainWorker pid=53630)\u001b[0m Extracting /Users/atharvakulkarni/data/FashionMNIST/raw/train-images-idx3-ubyte.gz to /Users/atharvakulkarni/data/FashionMNIST/raw\n",
      "\u001b[36m(RayTrainWorker pid=53630)\u001b[0m \n",
      "\u001b[36m(RayTrainWorker pid=53630)\u001b[0m Downloading http://fashion-mnist.s3-website.eu-central-1.amazonaws.com/train-labels-idx1-ubyte.gz\n",
      "\u001b[36m(RayTrainWorker pid=53630)\u001b[0m Downloading http://fashion-mnist.s3-website.eu-central-1.amazonaws.com/train-labels-idx1-ubyte.gz to /Users/atharvakulkarni/data/FashionMNIST/raw/train-labels-idx1-ubyte.gz\n"
     ]
    },
    {
     "name": "stderr",
     "output_type": "stream",
     "text": [
      "  0%|          | 0/29515 [00:00<?, ?it/s]\n",
      "100%|██████████| 29515/29515 [00:00<00:00, 181621.02it/s]\n"
     ]
    },
    {
     "name": "stdout",
     "output_type": "stream",
     "text": [
      "\u001b[36m(RayTrainWorker pid=53630)\u001b[0m Extracting /Users/atharvakulkarni/data/FashionMNIST/raw/train-labels-idx1-ubyte.gz to /Users/atharvakulkarni/data/FashionMNIST/raw\n",
      "\u001b[36m(RayTrainWorker pid=53630)\u001b[0m \n",
      "\u001b[36m(RayTrainWorker pid=53630)\u001b[0m Downloading http://fashion-mnist.s3-website.eu-central-1.amazonaws.com/t10k-images-idx3-ubyte.gz\n",
      "\u001b[36m(RayTrainWorker pid=53630)\u001b[0m Downloading http://fashion-mnist.s3-website.eu-central-1.amazonaws.com/t10k-images-idx3-ubyte.gz to /Users/atharvakulkarni/data/FashionMNIST/raw/t10k-images-idx3-ubyte.gz\n"
     ]
    },
    {
     "name": "stderr",
     "output_type": "stream",
     "text": [
      "  0%|          | 0/4422102 [00:00<?, ?it/s]\n",
      "  1%|          | 32768/4422102 [00:00<00:23, 189917.54it/s]\n"
     ]
    },
    {
     "name": "stdout",
     "output_type": "stream",
     "text": [
      "== Status ==\n",
      "Current time: 2024-09-29 11:43:13 (running for 00:00:10.14)\n",
      "Using FIFO scheduling algorithm.\n",
      "Logical resource usage: 5.0/10 CPUs, 0/0 GPUs\n",
      "Result logdir: /tmp/ray/session_2024-09-29_11-43-01_585844_53312/artifacts/2024-09-29_11-43-02/TorchTrainer_2024-09-29_11-43-01/driver_artifacts\n",
      "Number of trials: 1/1 (1 RUNNING)\n",
      "\n",
      "\n"
     ]
    },
    {
     "name": "stderr",
     "output_type": "stream",
     "text": [
      "  1%|▏         | 65536/4422102 [00:00<00:35, 123376.05it/s]\n",
      "  2%|▏         | 98304/4422102 [00:00<00:29, 145295.17it/s]\n",
      "  3%|▎         | 131072/4422102 [00:00<00:26, 160948.97it/s]\n",
      "  4%|▎         | 163840/4422102 [00:01<00:24, 171697.69it/s]\n",
      "  4%|▍         | 196608/4422102 [00:01<00:23, 178711.00it/s]\n",
      "  5%|▌         | 229376/4422102 [00:01<00:22, 184584.43it/s]\n",
      "  6%|▌         | 262144/4422102 [00:01<00:22, 187703.48it/s]\n",
      "  7%|▋         | 294912/4422102 [00:01<00:21, 190446.91it/s]\n",
      "  7%|▋         | 327680/4422102 [00:01<00:20, 196419.00it/s]\n",
      "  9%|▉         | 393216/4422102 [00:02<00:16, 247601.28it/s]\n",
      " 10%|▉         | 425984/4422102 [00:02<00:17, 230968.48it/s]\n",
      " 10%|█         | 458752/4422102 [00:02<00:17, 227640.87it/s]\n",
      " 12%|█▏        | 524288/4422102 [00:02<00:14, 268875.50it/s]\n",
      " 13%|█▎        | 557056/4422102 [00:02<00:15, 255828.01it/s]\n",
      " 14%|█▍        | 622592/4422102 [00:02<00:13, 286541.81it/s]\n",
      " 16%|█▌        | 688128/4422102 [00:03<00:11, 315102.89it/s]\n",
      " 16%|█▋        | 720896/4422102 [00:03<00:13, 284369.96it/s]\n",
      " 18%|█▊        | 786432/4422102 [00:03<00:11, 313345.84it/s]\n",
      " 19%|█▉        | 851968/4422102 [00:03<00:10, 337055.10it/s]\n",
      " 21%|██        | 917504/4422102 [00:03<00:09, 353513.41it/s]\n",
      " 22%|██▏       | 983040/4422102 [00:03<00:09, 364218.46it/s]\n",
      " 24%|██▍       | 1081344/4422102 [00:04<00:07, 431643.06it/s]\n",
      " 26%|██▌       | 1146880/4422102 [00:04<00:07, 419124.82it/s]\n",
      " 27%|██▋       | 1212416/4422102 [00:04<00:07, 417992.42it/s]\n",
      " 30%|██▉       | 1310720/4422102 [00:04<00:06, 456187.22it/s]\n",
      " 32%|███▏      | 1409024/4422102 [00:04<00:06, 493086.61it/s]\n",
      " 34%|███▍      | 1507328/4422102 [00:04<00:05, 517326.45it/s]\n",
      " 36%|███▋      | 1605632/4422102 [00:05<00:05, 536263.01it/s]\n",
      " 39%|███▊      | 1703936/4422102 [00:05<00:04, 554800.82it/s]\n",
      " 41%|████      | 1802240/4422102 [00:05<00:04, 571265.35it/s]\n",
      " 44%|████▎     | 1933312/4422102 [00:05<00:03, 628175.55it/s]\n"
     ]
    },
    {
     "name": "stdout",
     "output_type": "stream",
     "text": [
      "== Status ==\n",
      "Current time: 2024-09-29 11:43:18 (running for 00:00:15.24)\n",
      "Using FIFO scheduling algorithm.\n",
      "Logical resource usage: 5.0/10 CPUs, 0/0 GPUs\n",
      "Result logdir: /tmp/ray/session_2024-09-29_11-43-01_585844_53312/artifacts/2024-09-29_11-43-02/TorchTrainer_2024-09-29_11-43-01/driver_artifacts\n",
      "Number of trials: 1/1 (1 RUNNING)\n",
      "\n",
      "\n"
     ]
    },
    {
     "name": "stderr",
     "output_type": "stream",
     "text": [
      " 46%|████▌     | 2031616/4422102 [00:05<00:03, 621379.85it/s]\n",
      " 49%|████▉     | 2162688/4422102 [00:05<00:03, 665149.92it/s]\n",
      " 53%|█████▎    | 2326528/4422102 [00:06<00:02, 756273.54it/s]\n",
      " 56%|█████▌    | 2457600/4422102 [00:06<00:02, 757804.28it/s]\n",
      " 59%|█████▉    | 2621440/4422102 [00:06<00:02, 811139.55it/s]\n",
      " 63%|██████▎   | 2785280/4422102 [00:06<00:01, 858088.05it/s]\n",
      " 67%|██████▋   | 2981888/4422102 [00:06<00:01, 950451.05it/s]\n",
      " 72%|███████▏  | 3178496/4422102 [00:06<00:01, 1017579.23it/s]\n",
      " 76%|███████▋  | 3375104/4422102 [00:07<00:00, 1064133.48it/s]\n",
      " 82%|████████▏ | 3604480/4422102 [00:07<00:00, 1149034.06it/s]\n",
      " 87%|████████▋ | 3833856/4422102 [00:07<00:00, 1262323.51it/s]\n",
      " 93%|█████████▎| 4096000/4422102 [00:07<00:00, 1305300.23it/s]\n",
      "100%|██████████| 4422102/4422102 [00:07<00:00, 569479.82it/s] \n"
     ]
    },
    {
     "name": "stdout",
     "output_type": "stream",
     "text": [
      "\u001b[36m(RayTrainWorker pid=53630)\u001b[0m Extracting /Users/atharvakulkarni/data/FashionMNIST/raw/t10k-images-idx3-ubyte.gz to /Users/atharvakulkarni/data/FashionMNIST/raw\n",
      "\u001b[36m(RayTrainWorker pid=53630)\u001b[0m \n",
      "\u001b[36m(RayTrainWorker pid=53630)\u001b[0m Downloading http://fashion-mnist.s3-website.eu-central-1.amazonaws.com/t10k-labels-idx1-ubyte.gz\n",
      "\u001b[36m(RayTrainWorker pid=53630)\u001b[0m Downloading http://fashion-mnist.s3-website.eu-central-1.amazonaws.com/t10k-labels-idx1-ubyte.gz to /Users/atharvakulkarni/data/FashionMNIST/raw/t10k-labels-idx1-ubyte.gz\n",
      "\u001b[36m(RayTrainWorker pid=53630)\u001b[0m Extracting /Users/atharvakulkarni/data/FashionMNIST/raw/t10k-labels-idx1-ubyte.gz to /Users/atharvakulkarni/data/FashionMNIST/raw\n",
      "\u001b[36m(RayTrainWorker pid=53630)\u001b[0m \n"
     ]
    },
    {
     "name": "stderr",
     "output_type": "stream",
     "text": [
      "100%|██████████| 5148/5148 [00:00<00:00, 6021270.77it/s]\n",
      "\u001b[36m(RayTrainWorker pid=53630)\u001b[0m Moving model to device: cpu\n",
      "\u001b[36m(RayTrainWorker pid=53630)\u001b[0m Wrapping provided model in DistributedDataParallel.\n",
      "Train Epoch 0:   0%|          | 0/1875 [00:00<?, ?it/s]\n",
      "Train Epoch 0:   0%|          | 9/1875 [00:00<00:21, 86.85it/s]\n"
     ]
    },
    {
     "name": "stdout",
     "output_type": "stream",
     "text": [
      "== Status ==\n",
      "Current time: 2024-09-29 11:43:23 (running for 00:00:20.31)\n",
      "Using FIFO scheduling algorithm.\n",
      "Logical resource usage: 5.0/10 CPUs, 0/0 GPUs\n",
      "Result logdir: /tmp/ray/session_2024-09-29_11-43-01_585844_53312/artifacts/2024-09-29_11-43-02/TorchTrainer_2024-09-29_11-43-01/driver_artifacts\n",
      "Number of trials: 1/1 (1 RUNNING)\n",
      "\n",
      "\n"
     ]
    },
    {
     "name": "stderr",
     "output_type": "stream",
     "text": [
      "Train Epoch 0:   0%|          | 0/1875 [00:00<?, ?it/s]\u001b[32m [repeated 3x across cluster] (Ray deduplicates logs by default. Set RAY_DEDUP_LOGS=0 to disable log deduplication, or see https://docs.ray.io/en/master/ray-observability/user-guides/configure-logging.html#log-deduplication for more options.)\u001b[0m\n",
      "Train Epoch 0:  49%|████▉     | 925/1875 [00:05<00:05, 184.09it/s]\u001b[32m [repeated 188x across cluster]\u001b[0m\n"
     ]
    },
    {
     "name": "stdout",
     "output_type": "stream",
     "text": [
      "== Status ==\n",
      "Current time: 2024-09-29 11:43:28 (running for 00:00:25.39)\n",
      "Using FIFO scheduling algorithm.\n",
      "Logical resource usage: 5.0/10 CPUs, 0/0 GPUs\n",
      "Result logdir: /tmp/ray/session_2024-09-29_11-43-01_585844_53312/artifacts/2024-09-29_11-43-02/TorchTrainer_2024-09-29_11-43-01/driver_artifacts\n",
      "Number of trials: 1/1 (1 RUNNING)\n",
      "\n",
      "\n"
     ]
    },
    {
     "name": "stderr",
     "output_type": "stream",
     "text": [
      "Train Epoch 0:  92%|█████████▏| 1728/1875 [00:09<00:00, 175.32it/s]\n",
      "Train Epoch 0:  91%|█████████ | 1710/1875 [00:09<00:00, 179.76it/s]\u001b[32m [repeated 167x across cluster]\u001b[0m\n",
      "Train Epoch 0: 100%|██████████| 1875/1875 [00:10<00:00, 178.33it/s]\n",
      "Test Epoch 0:   0%|          | 0/313 [00:00<?, ?it/s]\n",
      "Test Epoch 0:  28%|██▊       | 87/313 [00:00<00:00, 868.33it/s]\n",
      "Test Epoch 0: 100%|██████████| 313/313 [00:00<00:00, 982.71it/s] \n",
      "Train Epoch 1:   0%|          | 0/1875 [00:00<?, ?it/s]\n",
      "Test Epoch 0: 100%|██████████| 313/313 [00:00<00:00, 1021.63it/s]\n",
      "Test Epoch 0: 100%|██████████| 313/313 [00:00<00:00, 951.37it/s]\n",
      "Train Epoch 1:   7%|▋         | 128/1875 [00:00<00:11, 146.72it/s]\n"
     ]
    },
    {
     "name": "stdout",
     "output_type": "stream",
     "text": [
      "== Status ==\n",
      "Current time: 2024-09-29 11:43:33 (running for 00:00:30.47)\n",
      "Using FIFO scheduling algorithm.\n",
      "Logical resource usage: 5.0/10 CPUs, 0/0 GPUs\n",
      "Result logdir: /tmp/ray/session_2024-09-29_11-43-01_585844_53312/artifacts/2024-09-29_11-43-02/TorchTrainer_2024-09-29_11-43-01/driver_artifacts\n",
      "Number of trials: 1/1 (1 RUNNING)\n",
      "\n",
      "\n"
     ]
    },
    {
     "name": "stderr",
     "output_type": "stream",
     "text": [
      "Train Epoch 1:  13%|█▎        | 249/1875 [00:01<00:11, 145.98it/s]\n",
      "Train Epoch 0:  99%|█████████▉| 1853/1875 [00:10<00:00, 165.97it/s]\u001b[32m [repeated 31x across cluster]\u001b[0m\n",
      "Train Epoch 1:  33%|███▎      | 612/1875 [00:04<00:09, 139.32it/s]\u001b[32m [repeated 153x across cluster]\u001b[0m\n",
      "Train Epoch 0: 100%|██████████| 1875/1875 [00:10<00:00, 178.34it/s]\u001b[32m [repeated 3x across cluster]\u001b[0m\n",
      "Test Epoch 0:   0%|          | 0/313 [00:00<?, ?it/s]\u001b[32m [repeated 3x across cluster]\u001b[0m\n",
      "Test Epoch 0:  60%|██████    | 189/313 [00:00<00:00, 956.91it/s]\u001b[32m [repeated 7x across cluster]\u001b[0m\n",
      "Test Epoch 0: 100%|██████████| 313/313 [00:00<00:00, 972.76it/s]\n",
      "Train Epoch 1:   0%|          | 0/1875 [00:00<?, ?it/s]\u001b[32m [repeated 3x across cluster]\u001b[0m\n",
      "Train Epoch 1:  21%|██        | 392/1875 [00:02<00:09, 152.20it/s]\u001b[32m [repeated 2x across cluster]\u001b[0m\n"
     ]
    },
    {
     "name": "stdout",
     "output_type": "stream",
     "text": [
      "== Status ==\n",
      "Current time: 2024-09-29 11:43:38 (running for 00:00:35.53)\n",
      "Using FIFO scheduling algorithm.\n",
      "Logical resource usage: 5.0/10 CPUs, 0/0 GPUs\n",
      "Result logdir: /tmp/ray/session_2024-09-29_11-43-01_585844_53312/artifacts/2024-09-29_11-43-02/TorchTrainer_2024-09-29_11-43-01/driver_artifacts\n",
      "Number of trials: 1/1 (1 RUNNING)\n",
      "\n",
      "\n"
     ]
    },
    {
     "name": "stderr",
     "output_type": "stream",
     "text": [
      "Train Epoch 1:  68%|██████▊   | 1281/1875 [00:09<00:04, 138.23it/s]\u001b[32m [repeated 184x across cluster]\u001b[0m\n"
     ]
    },
    {
     "name": "stdout",
     "output_type": "stream",
     "text": [
      "== Status ==\n",
      "Current time: 2024-09-29 11:43:43 (running for 00:00:40.61)\n",
      "Using FIFO scheduling algorithm.\n",
      "Logical resource usage: 5.0/10 CPUs, 0/0 GPUs\n",
      "Result logdir: /tmp/ray/session_2024-09-29_11-43-01_585844_53312/artifacts/2024-09-29_11-43-02/TorchTrainer_2024-09-29_11-43-01/driver_artifacts\n",
      "Number of trials: 1/1 (1 RUNNING)\n",
      "\n",
      "\n"
     ]
    },
    {
     "name": "stderr",
     "output_type": "stream",
     "text": [
      "Train Epoch 1:  92%|█████████▏| 1725/1875 [00:12<00:01, 137.19it/s]\n",
      "Test Epoch 1:   0%|          | 0/313 [00:00<?, ?it/s]\n",
      "Test Epoch 1:  46%|████▌     | 144/313 [00:00<00:00, 1439.97it/s]\n",
      "Test Epoch 1:  93%|█████████▎| 290/313 [00:00<00:00, 1439.86it/s]\n",
      "Train Epoch 2:   0%|          | 0/1875 [00:00<?, ?it/s]\n",
      "Train Epoch 2:   3%|▎         | 52/1875 [00:00<00:14, 126.49it/s]\u001b[32m [repeated 133x across cluster]\u001b[0m\n",
      "Train Epoch 2:   4%|▍         | 81/1875 [00:00<00:13, 134.50it/s]\n"
     ]
    },
    {
     "name": "stdout",
     "output_type": "stream",
     "text": [
      "== Status ==\n",
      "Current time: 2024-09-29 11:43:48 (running for 00:00:45.67)\n",
      "Using FIFO scheduling algorithm.\n",
      "Logical resource usage: 5.0/10 CPUs, 0/0 GPUs\n",
      "Result logdir: /tmp/ray/session_2024-09-29_11-43-01_585844_53312/artifacts/2024-09-29_11-43-02/TorchTrainer_2024-09-29_11-43-01/driver_artifacts\n",
      "Number of trials: 1/1 (1 RUNNING)\n",
      "\n",
      "\n"
     ]
    },
    {
     "name": "stderr",
     "output_type": "stream",
     "text": [
      "Train Epoch 1: 100%|██████████| 1875/1875 [00:13<00:00, 135.31it/s]\u001b[32m [repeated 47x across cluster]\u001b[0m\n",
      "Test Epoch 1:   0%|          | 0/313 [00:00<?, ?it/s]\u001b[32m [repeated 3x across cluster]\u001b[0m\n",
      "Test Epoch 1:  49%|████▊     | 152/313 [00:00<00:00, 1512.35it/s]\u001b[32m [repeated 3x across cluster]\u001b[0m\n",
      "Test Epoch 1: 100%|██████████| 313/313 [00:00<00:00, 1455.80it/s]\u001b[32m [repeated 7x across cluster]\u001b[0m\n",
      "Train Epoch 2:   0%|          | 0/1875 [00:00<?, ?it/s]\u001b[32m [repeated 3x across cluster]\u001b[0m\n",
      "Train Epoch 2:  43%|████▎     | 798/1875 [00:05<00:07, 141.80it/s]\u001b[32m [repeated 185x across cluster]\u001b[0m\n",
      "Train Epoch 2:   4%|▍         | 81/1875 [00:00<00:13, 134.21it/s]\u001b[32m [repeated 2x across cluster]\u001b[0m\n"
     ]
    },
    {
     "name": "stdout",
     "output_type": "stream",
     "text": [
      "== Status ==\n",
      "Current time: 2024-09-29 11:43:53 (running for 00:00:50.75)\n",
      "Using FIFO scheduling algorithm.\n",
      "Logical resource usage: 5.0/10 CPUs, 0/0 GPUs\n",
      "Result logdir: /tmp/ray/session_2024-09-29_11-43-01_585844_53312/artifacts/2024-09-29_11-43-02/TorchTrainer_2024-09-29_11-43-01/driver_artifacts\n",
      "Number of trials: 1/1 (1 RUNNING)\n",
      "\n",
      "\n"
     ]
    },
    {
     "name": "stderr",
     "output_type": "stream",
     "text": [
      "Train Epoch 2:  81%|████████  | 1518/1875 [00:10<00:02, 135.64it/s]\u001b[32m [repeated 188x across cluster]\u001b[0m\n",
      "Train Epoch 2:  92%|█████████▏| 1726/1875 [00:12<00:00, 150.91it/s]\n"
     ]
    },
    {
     "name": "stdout",
     "output_type": "stream",
     "text": [
      "== Status ==\n",
      "Current time: 2024-09-29 11:43:58 (running for 00:00:55.82)\n",
      "Using FIFO scheduling algorithm.\n",
      "Logical resource usage: 5.0/10 CPUs, 0/0 GPUs\n",
      "Result logdir: /tmp/ray/session_2024-09-29_11-43-01_585844_53312/artifacts/2024-09-29_11-43-02/TorchTrainer_2024-09-29_11-43-01/driver_artifacts\n",
      "Number of trials: 1/1 (1 RUNNING)\n",
      "\n",
      "\n"
     ]
    },
    {
     "name": "stderr",
     "output_type": "stream",
     "text": [
      "Train Epoch 2: 100%|██████████| 1875/1875 [00:13<00:00, 143.42it/s]\n",
      "Test Epoch 2:   0%|          | 0/313 [00:00<?, ?it/s]\n",
      "Test Epoch 2:  48%|████▊     | 150/313 [00:00<00:00, 1493.58it/s]\n",
      "Test Epoch 2: 100%|██████████| 313/313 [00:00<00:00, 1505.16it/s]\n",
      "Train Epoch 3:   0%|          | 0/1875 [00:00<?, ?it/s]\n",
      "Train Epoch 3:  17%|█▋        | 325/1875 [00:02<00:10, 145.78it/s]\u001b[32m [repeated 140x across cluster]\u001b[0m\n",
      "Train Epoch 2:  99%|█████████▉| 1854/1875 [00:12<00:00, 143.04it/s]\u001b[32m [repeated 35x across cluster]\u001b[0m\n"
     ]
    },
    {
     "name": "stdout",
     "output_type": "stream",
     "text": [
      "== Status ==\n",
      "Current time: 2024-09-29 11:44:03 (running for 00:01:00.82)\n",
      "Using FIFO scheduling algorithm.\n",
      "Logical resource usage: 5.0/10 CPUs, 0/0 GPUs\n",
      "Result logdir: /tmp/ray/session_2024-09-29_11-43-01_585844_53312/artifacts/2024-09-29_11-43-02/TorchTrainer_2024-09-29_11-43-01/driver_artifacts\n",
      "Number of trials: 1/1 (1 RUNNING)\n",
      "\n",
      "\n"
     ]
    },
    {
     "name": "stderr",
     "output_type": "stream",
     "text": [
      "Train Epoch 2: 100%|██████████| 1875/1875 [00:13<00:00, 143.39it/s]\u001b[32m [repeated 3x across cluster]\u001b[0m\n",
      "Test Epoch 2:   0%|          | 0/313 [00:00<?, ?it/s]\u001b[32m [repeated 3x across cluster]\u001b[0m\n",
      "Test Epoch 2:  47%|████▋     | 147/313 [00:00<00:00, 1463.88it/s]\u001b[32m [repeated 3x across cluster]\u001b[0m\n",
      "Test Epoch 2: 100%|██████████| 313/313 [00:00<00:00, 1481.89it/s]\u001b[32m [repeated 3x across cluster]\u001b[0m\n",
      "Train Epoch 3:   0%|          | 0/1875 [00:00<?, ?it/s]\u001b[32m [repeated 3x across cluster]\u001b[0m\n",
      "Train Epoch 3:  43%|████▎     | 803/1875 [00:05<00:07, 142.36it/s]\n",
      "Train Epoch 3:  55%|█████▍    | 1024/1875 [00:07<00:06, 133.47it/s]\u001b[32m [repeated 178x across cluster]\u001b[0m\n"
     ]
    },
    {
     "name": "stdout",
     "output_type": "stream",
     "text": [
      "== Status ==\n",
      "Current time: 2024-09-29 11:44:08 (running for 00:01:05.90)\n",
      "Using FIFO scheduling algorithm.\n",
      "Logical resource usage: 5.0/10 CPUs, 0/0 GPUs\n",
      "Result logdir: /tmp/ray/session_2024-09-29_11-43-01_585844_53312/artifacts/2024-09-29_11-43-02/TorchTrainer_2024-09-29_11-43-01/driver_artifacts\n",
      "Number of trials: 1/1 (1 RUNNING)\n",
      "\n",
      "\n"
     ]
    },
    {
     "name": "stderr",
     "output_type": "stream",
     "text": [
      "Train Epoch 3:  74%|███████▍  | 1386/1875 [00:09<00:03, 138.14it/s]\u001b[32m [repeated 5x across cluster]\u001b[0m\n",
      "Train Epoch 3:  91%|█████████▏| 1712/1875 [00:12<00:01, 137.68it/s]\n",
      "Train Epoch 3:  90%|█████████ | 1694/1875 [00:12<00:01, 123.37it/s]\u001b[32m [repeated 176x across cluster]\u001b[0m\n",
      "Train Epoch 3:  93%|█████████▎| 1748/1875 [00:12<00:00, 156.84it/s]\n",
      "Test Epoch 3:   0%|          | 0/313 [00:00<?, ?it/s]\n",
      "Test Epoch 3:  52%|█████▏    | 164/313 [00:00<00:00, 1638.74it/s]\n",
      "Test Epoch 3: 100%|██████████| 313/313 [00:00<00:00, 1530.49it/s]\n",
      "Train Epoch 4:   0%|          | 0/1875 [00:00<?, ?it/s]\n",
      "Test Epoch 3: 100%|██████████| 313/313 [00:00<00:00, 1412.52it/s]\n",
      "Test Epoch 3: 100%|██████████| 313/313 [00:00<00:00, 1418.57it/s]\n"
     ]
    },
    {
     "name": "stdout",
     "output_type": "stream",
     "text": [
      "== Status ==\n",
      "Current time: 2024-09-29 11:44:13 (running for 00:01:10.94)\n",
      "Using FIFO scheduling algorithm.\n",
      "Logical resource usage: 5.0/10 CPUs, 0/0 GPUs\n",
      "Result logdir: /tmp/ray/session_2024-09-29_11-43-01_585844_53312/artifacts/2024-09-29_11-43-02/TorchTrainer_2024-09-29_11-43-01/driver_artifacts\n",
      "Number of trials: 1/1 (1 RUNNING)\n",
      "\n",
      "\n"
     ]
    },
    {
     "name": "stderr",
     "output_type": "stream",
     "text": [
      "Train Epoch 4:   9%|▉         | 177/1875 [00:01<00:12, 138.75it/s]\u001b[32m [repeated 3x across cluster]\u001b[0m\n",
      "Train Epoch 3:  99%|█████████▉| 1855/1875 [00:13<00:00, 135.57it/s]\u001b[32m [repeated 32x across cluster]\u001b[0m\n",
      "Train Epoch 4:  28%|██▊       | 531/1875 [00:03<00:08, 155.36it/s]\u001b[32m [repeated 133x across cluster]\u001b[0m\n",
      "Train Epoch 3: 100%|██████████| 1875/1875 [00:13<00:00, 138.73it/s]\u001b[32m [repeated 6x across cluster]\u001b[0m\n",
      "Test Epoch 3:   0%|          | 0/313 [00:00<?, ?it/s]\u001b[32m [repeated 3x across cluster]\u001b[0m\n",
      "Test Epoch 3:  87%|████████▋ | 272/313 [00:00<00:00, 1355.41it/s]\u001b[32m [repeated 4x across cluster]\u001b[0m\n",
      "Test Epoch 3: 100%|██████████| 313/313 [00:00<00:00, 1365.03it/s]\n",
      "Train Epoch 4:   0%|          | 0/1875 [00:00<?, ?it/s]\u001b[32m [repeated 3x across cluster]\u001b[0m\n"
     ]
    },
    {
     "name": "stdout",
     "output_type": "stream",
     "text": [
      "== Status ==\n",
      "Current time: 2024-09-29 11:44:18 (running for 00:01:16.00)\n",
      "Using FIFO scheduling algorithm.\n",
      "Logical resource usage: 5.0/10 CPUs, 0/0 GPUs\n",
      "Result logdir: /tmp/ray/session_2024-09-29_11-43-01_585844_53312/artifacts/2024-09-29_11-43-02/TorchTrainer_2024-09-29_11-43-01/driver_artifacts\n",
      "Number of trials: 1/1 (1 RUNNING)\n",
      "\n",
      "\n"
     ]
    },
    {
     "name": "stderr",
     "output_type": "stream",
     "text": [
      "Train Epoch 4:  57%|█████▋    | 1060/1875 [00:07<00:05, 157.54it/s]\n",
      "Train Epoch 4:  68%|██████▊   | 1281/1875 [00:08<00:04, 127.01it/s]\u001b[32m [repeated 176x across cluster]\u001b[0m\n"
     ]
    },
    {
     "name": "stdout",
     "output_type": "stream",
     "text": [
      "== Status ==\n",
      "Current time: 2024-09-29 11:44:24 (running for 00:01:21.09)\n",
      "Using FIFO scheduling algorithm.\n",
      "Logical resource usage: 5.0/10 CPUs, 0/0 GPUs\n",
      "Result logdir: /tmp/ray/session_2024-09-29_11-43-01_585844_53312/artifacts/2024-09-29_11-43-02/TorchTrainer_2024-09-29_11-43-01/driver_artifacts\n",
      "Number of trials: 1/1 (1 RUNNING)\n",
      "\n",
      "\n"
     ]
    },
    {
     "name": "stderr",
     "output_type": "stream",
     "text": [
      "Train Epoch 4:  92%|█████████▏| 1718/1875 [00:11<00:01, 144.44it/s]\n",
      "Train Epoch 4:  81%|████████▏ | 1524/1875 [00:10<00:02, 132.90it/s]\u001b[32m [repeated 6x across cluster]\u001b[0m\n",
      "Train Epoch 4: 100%|██████████| 1875/1875 [00:12<00:00, 144.27it/s]\n",
      "Test Epoch 4:   0%|          | 0/313 [00:00<?, ?it/s]\n",
      "Test Epoch 4:  42%|████▏     | 130/313 [00:00<00:00, 1296.33it/s]\n",
      "Test Epoch 4:  92%|█████████▏| 288/313 [00:00<00:00, 1443.47it/s]\n",
      "Train Epoch 5:   0%|          | 0/1875 [00:00<?, ?it/s]\n",
      "Test Epoch 4: 100%|██████████| 313/313 [00:00<00:00, 1472.95it/s]\n",
      "Train Epoch 5:   5%|▍         | 87/1875 [00:00<00:12, 144.33it/s]\u001b[32m [repeated 134x across cluster]\u001b[0m\n"
     ]
    },
    {
     "name": "stdout",
     "output_type": "stream",
     "text": [
      "== Status ==\n",
      "Current time: 2024-09-29 11:44:29 (running for 00:01:26.13)\n",
      "Using FIFO scheduling algorithm.\n",
      "Logical resource usage: 5.0/10 CPUs, 0/0 GPUs\n",
      "Result logdir: /tmp/ray/session_2024-09-29_11-43-01_585844_53312/artifacts/2024-09-29_11-43-02/TorchTrainer_2024-09-29_11-43-01/driver_artifacts\n",
      "Number of trials: 1/1 (1 RUNNING)\n",
      "\n",
      "\n"
     ]
    },
    {
     "name": "stderr",
     "output_type": "stream",
     "text": [
      "Train Epoch 4: 100%|██████████| 1875/1875 [00:13<00:00, 144.18it/s]\u001b[32m [repeated 43x across cluster]\u001b[0m\n",
      "Train Epoch 5:  28%|██▊       | 521/1875 [00:03<00:09, 145.63it/s]\u001b[32m [repeated 2x across cluster]\u001b[0m\n",
      "Train Epoch 4: 100%|██████████| 1875/1875 [00:13<00:00, 144.17it/s]\n",
      "Test Epoch 4:   0%|          | 0/313 [00:00<?, ?it/s]\u001b[32m [repeated 3x across cluster]\u001b[0m\n",
      "Test Epoch 4:  87%|████████▋ | 272/313 [00:00<00:00, 1366.94it/s]\u001b[32m [repeated 4x across cluster]\u001b[0m\n",
      "Test Epoch 4: 100%|██████████| 313/313 [00:00<00:00, 1440.13it/s]\u001b[32m [repeated 3x across cluster]\u001b[0m\n",
      "Train Epoch 5:   0%|          | 0/1875 [00:00<?, ?it/s]\u001b[32m [repeated 3x across cluster]\u001b[0m\n",
      "Train Epoch 5:  43%|████▎     | 810/1875 [00:05<00:07, 144.79it/s]\u001b[32m [repeated 184x across cluster]\u001b[0m\n"
     ]
    },
    {
     "name": "stdout",
     "output_type": "stream",
     "text": [
      "== Status ==\n",
      "Current time: 2024-09-29 11:44:34 (running for 00:01:31.21)\n",
      "Using FIFO scheduling algorithm.\n",
      "Logical resource usage: 5.0/10 CPUs, 0/0 GPUs\n",
      "Result logdir: /tmp/ray/session_2024-09-29_11-43-01_585844_53312/artifacts/2024-09-29_11-43-02/TorchTrainer_2024-09-29_11-43-01/driver_artifacts\n",
      "Number of trials: 1/1 (1 RUNNING)\n",
      "\n",
      "\n"
     ]
    },
    {
     "name": "stderr",
     "output_type": "stream",
     "text": [
      "Train Epoch 5:  69%|██████▉   | 1303/1875 [00:09<00:03, 150.63it/s]\u001b[32m [repeated 2x across cluster]\u001b[0m\n",
      "Train Epoch 5:  82%|████████▏ | 1537/1875 [00:10<00:02, 134.13it/s]\u001b[32m [repeated 185x across cluster]\u001b[0m\n",
      "Train Epoch 5:  92%|█████████▏| 1725/1875 [00:11<00:01, 145.07it/s]\n"
     ]
    },
    {
     "name": "stdout",
     "output_type": "stream",
     "text": [
      "== Status ==\n",
      "Current time: 2024-09-29 11:44:39 (running for 00:01:36.29)\n",
      "Using FIFO scheduling algorithm.\n",
      "Logical resource usage: 5.0/10 CPUs, 0/0 GPUs\n",
      "Result logdir: /tmp/ray/session_2024-09-29_11-43-01_585844_53312/artifacts/2024-09-29_11-43-02/TorchTrainer_2024-09-29_11-43-01/driver_artifacts\n",
      "Number of trials: 1/1 (1 RUNNING)\n",
      "\n",
      "\n"
     ]
    },
    {
     "name": "stderr",
     "output_type": "stream",
     "text": [
      "Train Epoch 5:  98%|█████████▊| 1835/1875 [00:12<00:00, 145.36it/s]\n",
      "Test Epoch 5:   0%|          | 0/313 [00:00<?, ?it/s]\n",
      "Test Epoch 5:  45%|████▌     | 141/313 [00:00<00:00, 1406.81it/s]\n",
      "Test Epoch 5: 100%|██████████| 313/313 [00:00<00:00, 1430.26it/s]\n",
      "Train Epoch 6:   0%|          | 0/1875 [00:00<?, ?it/s]\n",
      "Test Epoch 5: 100%|██████████| 313/313 [00:00<00:00, 1685.67it/s]\n",
      "Train Epoch 6:   1%|          | 23/1875 [00:00<00:15, 118.50it/s]\u001b[32m [repeated 2x across cluster]\u001b[0m\n",
      "Train Epoch 6:  20%|█▉        | 374/1875 [00:02<00:10, 144.74it/s]\u001b[32m [repeated 136x across cluster]\u001b[0m\n",
      "Train Epoch 5: 100%|██████████| 1875/1875 [00:12<00:00, 144.85it/s]\u001b[32m [repeated 41x across cluster]\u001b[0m\n"
     ]
    },
    {
     "name": "stdout",
     "output_type": "stream",
     "text": [
      "== Status ==\n",
      "Current time: 2024-09-29 11:44:44 (running for 00:01:41.35)\n",
      "Using FIFO scheduling algorithm.\n",
      "Logical resource usage: 5.0/10 CPUs, 0/0 GPUs\n",
      "Result logdir: /tmp/ray/session_2024-09-29_11-43-01_585844_53312/artifacts/2024-09-29_11-43-02/TorchTrainer_2024-09-29_11-43-01/driver_artifacts\n",
      "Number of trials: 1/1 (1 RUNNING)\n",
      "\n",
      "\n"
     ]
    },
    {
     "name": "stderr",
     "output_type": "stream",
     "text": [
      "Test Epoch 5:   0%|          | 0/313 [00:00<?, ?it/s]\u001b[32m [repeated 3x across cluster]\u001b[0m\n",
      "Test Epoch 5:  47%|████▋     | 146/313 [00:00<00:00, 1459.72it/s]\u001b[32m [repeated 3x across cluster]\u001b[0m\n",
      "Test Epoch 5: 100%|██████████| 313/313 [00:00<00:00, 1472.26it/s]\u001b[32m [repeated 2x across cluster]\u001b[0m\n",
      "Train Epoch 6:   0%|          | 0/1875 [00:00<?, ?it/s]\u001b[32m [repeated 3x across cluster]\u001b[0m\n",
      "Train Epoch 6:  46%|████▌     | 857/1875 [00:05<00:07, 137.55it/s]\u001b[32m [repeated 3x across cluster]\u001b[0m\n",
      "Train Epoch 6:  59%|█████▊    | 1100/1875 [00:07<00:05, 141.65it/s]\u001b[32m [repeated 182x across cluster]\u001b[0m\n"
     ]
    },
    {
     "name": "stdout",
     "output_type": "stream",
     "text": [
      "== Status ==\n",
      "Current time: 2024-09-29 11:44:49 (running for 00:01:46.43)\n",
      "Using FIFO scheduling algorithm.\n",
      "Logical resource usage: 5.0/10 CPUs, 0/0 GPUs\n",
      "Result logdir: /tmp/ray/session_2024-09-29_11-43-01_585844_53312/artifacts/2024-09-29_11-43-02/TorchTrainer_2024-09-29_11-43-01/driver_artifacts\n",
      "Number of trials: 1/1 (1 RUNNING)\n",
      "\n",
      "\n"
     ]
    },
    {
     "name": "stderr",
     "output_type": "stream",
     "text": [
      "Train Epoch 6:  66%|██████▌   | 1232/1875 [00:08<00:04, 143.33it/s]\n",
      "Train Epoch 6:  91%|█████████ | 1709/1875 [00:11<00:01, 126.81it/s]\n",
      "Train Epoch 6:  91%|█████████▏| 1712/1875 [00:11<00:01, 127.23it/s]\n",
      "Train Epoch 6:  94%|█████████▍| 1762/1875 [00:12<00:00, 124.10it/s]\n",
      "Train Epoch 6:  91%|█████████ | 1710/1875 [00:11<00:01, 126.71it/s]\u001b[32m [repeated 161x across cluster]\u001b[0m\n",
      "Test Epoch 6:   0%|          | 0/313 [00:00<?, ?it/s]\n",
      "Test Epoch 6:  30%|███       | 95/313 [00:00<00:00, 945.77it/s]\n",
      "Test Epoch 6: 100%|██████████| 313/313 [00:00<00:00, 1224.90it/s]\n",
      "Train Epoch 7:   0%|          | 0/1875 [00:00<?, ?it/s]\n",
      "Test Epoch 6: 100%|██████████| 313/313 [00:00<00:00, 964.47it/s]\n"
     ]
    },
    {
     "name": "stdout",
     "output_type": "stream",
     "text": [
      "== Status ==\n",
      "Current time: 2024-09-29 11:44:54 (running for 00:01:51.46)\n",
      "Using FIFO scheduling algorithm.\n",
      "Logical resource usage: 5.0/10 CPUs, 0/0 GPUs\n",
      "Result logdir: /tmp/ray/session_2024-09-29_11-43-01_585844_53312/artifacts/2024-09-29_11-43-02/TorchTrainer_2024-09-29_11-43-01/driver_artifacts\n",
      "Number of trials: 1/1 (1 RUNNING)\n",
      "\n",
      "\n"
     ]
    },
    {
     "name": "stderr",
     "output_type": "stream",
     "text": [
      "Train Epoch 6: 100%|██████████| 1875/1875 [00:13<00:00, 140.88it/s]\u001b[32m [repeated 47x across cluster]\u001b[0m\n",
      "Train Epoch 6: 100%|██████████| 1875/1875 [00:13<00:00, 140.60it/s]\u001b[32m [repeated 2x across cluster]\u001b[0m\n",
      "Train Epoch 7:  27%|██▋       | 505/1875 [00:04<00:11, 122.03it/s]\u001b[32m [repeated 150x across cluster]\u001b[0m\n",
      "Test Epoch 6:   0%|          | 0/313 [00:00<?, ?it/s]\u001b[32m [repeated 3x across cluster]\u001b[0m\n",
      "Test Epoch 6:  62%|██████▏   | 194/313 [00:00<00:00, 968.48it/s]\u001b[32m [repeated 6x across cluster]\u001b[0m\n",
      "Train Epoch 7:  32%|███▏      | 608/1875 [00:04<00:09, 126.85it/s]\n",
      "Train Epoch 7:   0%|          | 0/1875 [00:00<?, ?it/s]\u001b[32m [repeated 3x across cluster]\u001b[0m\n",
      "Test Epoch 6: 100%|██████████| 313/313 [00:00<00:00, 994.33it/s]\u001b[32m [repeated 2x across cluster]\u001b[0m\n"
     ]
    },
    {
     "name": "stdout",
     "output_type": "stream",
     "text": [
      "== Status ==\n",
      "Current time: 2024-09-29 11:44:59 (running for 00:01:56.53)\n",
      "Using FIFO scheduling algorithm.\n",
      "Logical resource usage: 5.0/10 CPUs, 0/0 GPUs\n",
      "Result logdir: /tmp/ray/session_2024-09-29_11-43-01_585844_53312/artifacts/2024-09-29_11-43-02/TorchTrainer_2024-09-29_11-43-01/driver_artifacts\n",
      "Number of trials: 1/1 (1 RUNNING)\n",
      "\n",
      "\n"
     ]
    },
    {
     "name": "stderr",
     "output_type": "stream",
     "text": [
      "Train Epoch 7:  61%|██████▏   | 1150/1875 [00:09<00:05, 121.74it/s]\u001b[32m [repeated 182x across cluster]\u001b[0m\n",
      "Train Epoch 7:  51%|█████▏    | 965/1875 [00:07<00:06, 130.07it/s]\u001b[32m [repeated 4x across cluster]\u001b[0m\n"
     ]
    },
    {
     "name": "stdout",
     "output_type": "stream",
     "text": [
      "== Status ==\n",
      "Current time: 2024-09-29 11:45:04 (running for 00:02:01.60)\n",
      "Using FIFO scheduling algorithm.\n",
      "Logical resource usage: 5.0/10 CPUs, 0/0 GPUs\n",
      "Result logdir: /tmp/ray/session_2024-09-29_11-43-01_585844_53312/artifacts/2024-09-29_11-43-02/TorchTrainer_2024-09-29_11-43-01/driver_artifacts\n",
      "Number of trials: 1/1 (1 RUNNING)\n",
      "\n",
      "\n"
     ]
    },
    {
     "name": "stderr",
     "output_type": "stream",
     "text": [
      "Train Epoch 7:  91%|█████████▏| 1714/1875 [00:13<00:01, 123.38it/s]\n",
      "Train Epoch 7:  93%|█████████▎| 1746/1875 [00:13<00:01, 128.70it/s]\n",
      "Train Epoch 7:  91%|█████████ | 1706/1875 [00:13<00:01, 124.89it/s]\u001b[32m [repeated 167x across cluster]\u001b[0m\n",
      "Test Epoch 7:   0%|          | 0/313 [00:00<?, ?it/s]\n",
      "Test Epoch 7:  36%|███▌      | 113/313 [00:00<00:00, 1127.18it/s]\n",
      "Test Epoch 7: 100%|██████████| 313/313 [00:00<00:00, 1135.53it/s]\n",
      "Train Epoch 8:   0%|          | 0/1875 [00:00<?, ?it/s]\n"
     ]
    },
    {
     "name": "stdout",
     "output_type": "stream",
     "text": [
      "== Status ==\n",
      "Current time: 2024-09-29 11:45:09 (running for 00:02:06.69)\n",
      "Using FIFO scheduling algorithm.\n",
      "Logical resource usage: 5.0/10 CPUs, 0/0 GPUs\n",
      "Result logdir: /tmp/ray/session_2024-09-29_11-43-01_585844_53312/artifacts/2024-09-29_11-43-02/TorchTrainer_2024-09-29_11-43-01/driver_artifacts\n",
      "Number of trials: 1/1 (1 RUNNING)\n",
      "\n",
      "\n"
     ]
    },
    {
     "name": "stderr",
     "output_type": "stream",
     "text": [
      "Train Epoch 7: 100%|██████████| 1875/1875 [00:14<00:00, 125.88it/s]\u001b[32m [repeated 49x across cluster]\u001b[0m\n",
      "Train Epoch 8:  28%|██▊       | 520/1875 [00:04<00:10, 123.72it/s]\u001b[32m [repeated 153x across cluster]\u001b[0m\n",
      "Test Epoch 7:   0%|          | 0/313 [00:00<?, ?it/s]\u001b[32m [repeated 3x across cluster]\u001b[0m\n",
      "Test Epoch 7:  33%|███▎      | 102/313 [00:00<00:00, 1013.22it/s]\u001b[32m [repeated 3x across cluster]\u001b[0m\n",
      "Test Epoch 7: 100%|██████████| 313/313 [00:00<00:00, 1053.05it/s]\u001b[32m [repeated 3x across cluster]\u001b[0m\n",
      "Train Epoch 8:   0%|          | 0/1875 [00:00<?, ?it/s]\u001b[32m [repeated 3x across cluster]\u001b[0m\n",
      "Train Epoch 8:  34%|███▍      | 638/1875 [00:05<00:09, 128.02it/s]\n"
     ]
    },
    {
     "name": "stdout",
     "output_type": "stream",
     "text": [
      "== Status ==\n",
      "Current time: 2024-09-29 11:45:14 (running for 00:02:11.76)\n",
      "Using FIFO scheduling algorithm.\n",
      "Logical resource usage: 5.0/10 CPUs, 0/0 GPUs\n",
      "Result logdir: /tmp/ray/session_2024-09-29_11-43-01_585844_53312/artifacts/2024-09-29_11-43-02/TorchTrainer_2024-09-29_11-43-01/driver_artifacts\n",
      "Number of trials: 1/1 (1 RUNNING)\n",
      "\n",
      "\n"
     ]
    },
    {
     "name": "stderr",
     "output_type": "stream",
     "text": [
      "Train Epoch 8:  62%|██████▏   | 1156/1875 [00:09<00:05, 124.86it/s]\u001b[32m [repeated 188x across cluster]\u001b[0m\n",
      "Train Epoch 8:  35%|███▍      | 652/1875 [00:05<00:09, 128.37it/s]\n",
      "Train Epoch 8:  75%|███████▍  | 1405/1875 [00:11<00:03, 123.73it/s]\n"
     ]
    },
    {
     "name": "stdout",
     "output_type": "stream",
     "text": [
      "== Status ==\n",
      "Current time: 2024-09-29 11:45:19 (running for 00:02:16.84)\n",
      "Using FIFO scheduling algorithm.\n",
      "Logical resource usage: 5.0/10 CPUs, 0/0 GPUs\n",
      "Result logdir: /tmp/ray/session_2024-09-29_11-43-01_585844_53312/artifacts/2024-09-29_11-43-02/TorchTrainer_2024-09-29_11-43-01/driver_artifacts\n",
      "Number of trials: 1/1 (1 RUNNING)\n",
      "\n",
      "\n"
     ]
    },
    {
     "name": "stderr",
     "output_type": "stream",
     "text": [
      "Train Epoch 8:  91%|█████████▏| 1712/1875 [00:13<00:01, 124.95it/s]\n",
      "Train Epoch 8:  91%|█████████ | 1699/1875 [00:13<00:01, 126.34it/s]\u001b[32m [repeated 159x across cluster]\u001b[0m\n",
      "Train Epoch 8: 100%|██████████| 1875/1875 [00:14<00:00, 126.09it/s]\n",
      "Test Epoch 8:   0%|          | 0/313 [00:00<?, ?it/s]\n",
      "Test Epoch 8:  34%|███▍      | 107/313 [00:00<00:00, 1068.35it/s]\n",
      "Test Epoch 8: 100%|██████████| 313/313 [00:00<00:00, 1143.97it/s]\n",
      "Train Epoch 9:   0%|          | 0/1875 [00:00<?, ?it/s]\n",
      "Test Epoch 8: 100%|██████████| 313/313 [00:00<00:00, 1077.53it/s]\n"
     ]
    },
    {
     "name": "stdout",
     "output_type": "stream",
     "text": [
      "== Status ==\n",
      "Current time: 2024-09-29 11:45:24 (running for 00:02:21.84)\n",
      "Using FIFO scheduling algorithm.\n",
      "Logical resource usage: 5.0/10 CPUs, 0/0 GPUs\n",
      "Result logdir: /tmp/ray/session_2024-09-29_11-43-01_585844_53312/artifacts/2024-09-29_11-43-02/TorchTrainer_2024-09-29_11-43-01/driver_artifacts\n",
      "Number of trials: 1/1 (1 RUNNING)\n",
      "\n",
      "\n"
     ]
    },
    {
     "name": "stderr",
     "output_type": "stream",
     "text": [
      "Train Epoch 9:   5%|▍         | 92/1875 [00:00<00:14, 126.06it/s]\u001b[32m [repeated 4x across cluster]\u001b[0m\n",
      "Train Epoch 8:  99%|█████████▉| 1861/1875 [00:14<00:00, 128.50it/s]\u001b[32m [repeated 47x across cluster]\u001b[0m\n",
      "Train Epoch 9:  28%|██▊       | 531/1875 [00:04<00:09, 136.27it/s]\u001b[32m [repeated 150x across cluster]\u001b[0m\n",
      "Train Epoch 8: 100%|██████████| 1875/1875 [00:14<00:00, 126.27it/s]\u001b[32m [repeated 3x across cluster]\u001b[0m\n",
      "Test Epoch 8:   0%|          | 0/313 [00:00<?, ?it/s]\u001b[32m [repeated 3x across cluster]\u001b[0m\n",
      "Test Epoch 8:  64%|██████▎   | 199/313 [00:00<00:00, 1000.76it/s]\u001b[32m [repeated 4x across cluster]\u001b[0m\n",
      "Test Epoch 8: 100%|██████████| 313/313 [00:00<00:00, 1235.60it/s]\u001b[32m [repeated 2x across cluster]\u001b[0m\n",
      "Train Epoch 9:   0%|          | 0/1875 [00:00<?, ?it/s]\u001b[32m [repeated 3x across cluster]\u001b[0m\n"
     ]
    },
    {
     "name": "stdout",
     "output_type": "stream",
     "text": [
      "== Status ==\n",
      "Current time: 2024-09-29 11:45:29 (running for 00:02:26.89)\n",
      "Using FIFO scheduling algorithm.\n",
      "Logical resource usage: 5.0/10 CPUs, 0/0 GPUs\n",
      "Result logdir: /tmp/ray/session_2024-09-29_11-43-01_585844_53312/artifacts/2024-09-29_11-43-02/TorchTrainer_2024-09-29_11-43-01/driver_artifacts\n",
      "Number of trials: 1/1 (1 RUNNING)\n",
      "\n",
      "\n"
     ]
    },
    {
     "name": "stderr",
     "output_type": "stream",
     "text": [
      "Train Epoch 9:  20%|██        | 376/1875 [00:03<00:11, 130.14it/s]\u001b[32m [repeated 2x across cluster]\u001b[0m\n",
      "Train Epoch 9:  62%|██████▏   | 1163/1875 [00:09<00:05, 125.68it/s]\u001b[32m [repeated 186x across cluster]\u001b[0m\n"
     ]
    },
    {
     "name": "stdout",
     "output_type": "stream",
     "text": [
      "== Status ==\n",
      "Current time: 2024-09-29 11:45:34 (running for 00:02:31.95)\n",
      "Using FIFO scheduling algorithm.\n",
      "Logical resource usage: 5.0/10 CPUs, 0/0 GPUs\n",
      "Result logdir: /tmp/ray/session_2024-09-29_11-43-01_585844_53312/artifacts/2024-09-29_11-43-02/TorchTrainer_2024-09-29_11-43-01/driver_artifacts\n",
      "Number of trials: 1/1 (1 RUNNING)\n",
      "\n",
      "\n"
     ]
    },
    {
     "name": "stderr",
     "output_type": "stream",
     "text": [
      "Train Epoch 9:  65%|██████▍   | 1213/1875 [00:09<00:05, 127.31it/s]\u001b[32m [repeated 3x across cluster]\u001b[0m\n",
      "Train Epoch 9:  92%|█████████▏| 1722/1875 [00:13<00:01, 125.48it/s]\n",
      "Train Epoch 9:  91%|█████████ | 1707/1875 [00:13<00:01, 127.84it/s]\u001b[32m [repeated 161x across cluster]\u001b[0m\n",
      "Train Epoch 9: 100%|██████████| 1875/1875 [00:14<00:00, 126.79it/s]\n",
      "Test Epoch 9:   0%|          | 0/313 [00:00<?, ?it/s]\n",
      "Test Epoch 9:  31%|███       | 97/313 [00:00<00:00, 962.88it/s]\n",
      "Test Epoch 9: 100%|██████████| 313/313 [00:00<00:00, 1494.53it/s]\n",
      "Test Epoch 9: 100%|██████████| 313/313 [00:00<00:00, 1056.42it/s]\n",
      "2024-09-29 11:45:39,868\tINFO tune.py:1009 -- Wrote the latest version of all result files and experiment state to '/Users/atharvakulkarni/ray_results/TorchTrainer_2024-09-29_11-43-01' in 0.0033s.\n",
      "2024-09-29 11:45:39,870\tINFO tune.py:1041 -- Total run time: 156.93 seconds (156.90 seconds for the tuning loop).\n"
     ]
    },
    {
     "name": "stdout",
     "output_type": "stream",
     "text": [
      "== Status ==\n",
      "Current time: 2024-09-29 11:45:39 (running for 00:02:36.90)\n",
      "Using FIFO scheduling algorithm.\n",
      "Logical resource usage: 5.0/10 CPUs, 0/0 GPUs\n",
      "Result logdir: /tmp/ray/session_2024-09-29_11-43-01_585844_53312/artifacts/2024-09-29_11-43-02/TorchTrainer_2024-09-29_11-43-01/driver_artifacts\n",
      "Number of trials: 1/1 (1 TERMINATED)\n",
      "\n",
      "\n",
      "Training result: Result(\n",
      "  metrics={'loss': 0.3730754413829444, 'accuracy': 0.8652},\n",
      "  path='/Users/atharvakulkarni/ray_results/TorchTrainer_2024-09-29_11-43-01/TorchTrainer_a884f_00000_0_2024-09-29_11-43-02',\n",
      "  filesystem='local',\n",
      "  checkpoint=None\n",
      ")\n"
     ]
    }
   ],
   "source": [
    "train_fashion_mnist(num_workers=4, use_gpu=False)"
   ]
  },
  {
   "cell_type": "code",
   "execution_count": null,
   "metadata": {},
   "outputs": [],
   "source": []
  }
 ],
 "metadata": {
  "kernelspec": {
   "display_name": "Python 3",
   "language": "python",
   "name": "python3"
  },
  "language_info": {
   "codemirror_mode": {
    "name": "ipython",
    "version": 3
   },
   "file_extension": ".py",
   "mimetype": "text/x-python",
   "name": "python",
   "nbconvert_exporter": "python",
   "pygments_lexer": "ipython3",
   "version": "3.9.18"
  }
 },
 "nbformat": 4,
 "nbformat_minor": 2
}
